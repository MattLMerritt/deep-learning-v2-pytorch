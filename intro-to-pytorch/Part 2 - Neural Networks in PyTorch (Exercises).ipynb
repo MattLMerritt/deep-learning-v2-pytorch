{
 "cells": [
  {
   "cell_type": "markdown",
   "metadata": {},
   "source": [
    "# Neural networks with PyTorch\n",
    "\n",
    "Deep learning networks tend to be massive with dozens or hundreds of layers, that's where the term \"deep\" comes from. You can build one of these deep networks using only weight matrices as we did in the previous notebook, but in general it's very cumbersome and difficult to implement. PyTorch has a nice module `nn` that provides a nice way to efficiently build large neural networks."
   ]
  },
  {
   "cell_type": "code",
   "execution_count": 6,
   "metadata": {},
   "outputs": [],
   "source": [
    "# Import necessary packages\n",
    "\n",
    "%matplotlib inline\n",
    "%config InlineBackend.figure_format = 'retina'\n",
    "\n",
    "import numpy as np\n",
    "import torch\n",
    "\n",
    "import helper\n",
    "\n",
    "import matplotlib.pyplot as plt"
   ]
  },
  {
   "cell_type": "markdown",
   "metadata": {},
   "source": [
    "\n",
    "Now we're going to build a larger network that can solve a (formerly) difficult problem, identifying text in an image. Here we'll use the MNIST dataset which consists of greyscale handwritten digits. Each image is 28x28 pixels, you can see a sample below\n",
    "\n",
    "<img src='assets/mnist.png'>\n",
    "\n",
    "Our goal is to build a neural network that can take one of these images and predict the digit in the image.\n",
    "\n",
    "First up, we need to get our dataset. This is provided through the `torchvision` package. The code below will download the MNIST dataset, then create training and test datasets for us. Don't worry too much about the details here, you'll learn more about this later."
   ]
  },
  {
   "cell_type": "code",
   "execution_count": 7,
   "metadata": {},
   "outputs": [],
   "source": [
    "# The MNIST datasets are hosted on yann.lecun.com that has moved under CloudFlare protection\n",
    "# Run this script to enable the datasets download\n",
    "# Reference: https://github.com/pytorch/vision/issues/1938\n",
    "\n",
    "from six.moves import urllib\n",
    "opener = urllib.request.build_opener()\n",
    "opener.addheaders = [('User-agent', 'Mozilla/5.0')]\n",
    "urllib.request.install_opener(opener)"
   ]
  },
  {
   "cell_type": "code",
   "execution_count": 10,
   "metadata": {},
   "outputs": [],
   "source": [
    "### Run this cell\n",
    "from torchvision import datasets, transforms\n",
    "\n",
    "# Define a transform to normalize the data\n",
    "transform = transforms.Compose([transforms.ToTensor(),\n",
    "                              transforms.Normalize((0.5,), (0.5,)),\n",
    "                              ])\n",
    "\n",
    "# Download and load the training data\n",
    "trainset = datasets.MNIST('~/.pytorch/MNIST_data/', download=True, train=True, transform=transform)\n",
    "trainloader = torch.utils.data.DataLoader(trainset, batch_size=64, shuffle=True)"
   ]
  },
  {
   "cell_type": "markdown",
   "metadata": {},
   "source": [
    "We have the training data loaded into `trainloader` and we make that an iterator with `iter(trainloader)`. Later, we'll use this to loop through the dataset for training, like\n",
    "\n",
    "```python\n",
    "for image, label in trainloader:\n",
    "    ## do things with images and labels\n",
    "```\n",
    "\n",
    "You'll notice I created the `trainloader` with a batch size of 64, and `shuffle=True`. The batch size is the number of images we get in one iteration from the data loader and pass through our network, often called a *batch*. And `shuffle=True` tells it to shuffle the dataset every time we start going through the data loader again. But here I'm just grabbing the first batch so we can check out the data. We can see below that `images` is just a tensor with size `(64, 1, 28, 28)`. So, 64 images per batch, 1 color channel, and 28x28 images."
   ]
  },
  {
   "cell_type": "code",
   "execution_count": 12,
   "metadata": {},
   "outputs": [
    {
     "name": "stdout",
     "output_type": "stream",
     "text": [
      "<class 'torch.Tensor'>\n",
      "torch.Size([64, 1, 28, 28])\n",
      "torch.Size([64])\n"
     ]
    }
   ],
   "source": [
    "dataiter = iter(trainloader)\n",
    "images, labels = dataiter.next()\n",
    "print(type(images))\n",
    "print(images.shape)\n",
    "print(labels.shape)"
   ]
  },
  {
   "cell_type": "markdown",
   "metadata": {},
   "source": [
    "This is what one of the images looks like. "
   ]
  },
  {
   "cell_type": "code",
   "execution_count": 14,
   "metadata": {},
   "outputs": [
    {
     "data": {
      "image/png": "[encoded data removed]",
      "text/plain": [
       "<Figure size 432x288 with 1 Axes>"
      ]
     },
     "metadata": {
      "image/png": {
       "height": 248,
       "width": 251
      },
      "needs_background": "light"
     },
     "output_type": "display_data"
    }
   ],
   "source": [
    "plt.imshow(images[1].numpy().squeeze(), cmap='Greys_r');"
   ]
  },
  {
   "cell_type": "markdown",
   "metadata": {},
   "source": [
    "First, let's try to build a simple network for this dataset using weight matrices and matrix multiplications. Then, we'll see how to do it using PyTorch's `nn` module which provides a much more convenient and powerful method for defining network architectures.\n",
    "\n",
    "The networks you've seen so far are called *fully-connected* or *dense* networks. Each unit in one layer is connected to each unit in the next layer. In fully-connected networks, the input to each layer must be a one-dimensional vector (which can be stacked into a 2D tensor as a batch of multiple examples). However, our images are 28x28 2D tensors, so we need to convert them into 1D vectors. Thinking about sizes, we need to convert the batch of images with shape `(64, 1, 28, 28)` to a have a shape of `(64, 784)`, 784 is 28 times 28. This is typically called *flattening*, we flattened the 2D images into 1D vectors.\n",
    "\n",
    "Previously you built a network with one output unit. Here we need 10 output units, one for each digit. We want our network to predict the digit shown in an image, so what we'll do is calculate probabilities that the image is of any one digit or class. This ends up being a discrete probability distribution over the classes (digits) that tells us the most likely class for the image. That means we need 10 output units for the 10 classes (digits). We'll see how to convert the network output into a probability distribution next.\n",
    "\n",
    "> **Exercise:** Flatten the batch of images `images`. Then build a multi-layer network with 784 input units, 256 hidden units, and 10 output units using random tensors for the weights and biases. For now, use a sigmoid activation for the hidden layer. Leave the output layer without an activation, we'll add one that gives us a probability distribution next."
   ]
  },
  {
   "cell_type": "code",
   "execution_count": 16,
   "metadata": {},
   "outputs": [
    {
     "name": "stdout",
     "output_type": "stream",
     "text": [
      "torch.Size([64, 10])\n",
      "tensor([[4.2961e-07, 9.9999e-01, 1.0000e+00, 1.0000e+00, 9.9653e-01, 7.3650e-02,\n",
      "         9.6096e-01, 3.5709e-02, 1.0000e+00, 9.9969e-01],\n",
      "        [1.6114e-04, 9.9884e-01, 8.5729e-01, 9.8755e-01, 9.9996e-01, 1.1702e-01,\n",
      "         9.9652e-01, 9.7807e-01, 9.9999e-01, 1.0000e+00],\n",
      "        [2.6232e-02, 9.9820e-01, 9.9212e-01, 9.9997e-01, 1.0000e+00, 6.9831e-01,\n",
      "         9.5576e-01, 9.9980e-01, 1.0000e+00, 1.0000e+00],\n",
      "        [9.7146e-01, 9.4401e-01, 9.9999e-01, 1.0000e+00, 1.0000e+00, 1.5557e-01,\n",
      "         1.7800e-01, 9.7556e-01, 1.0000e+00, 1.0000e+00],\n",
      "        [1.1137e-01, 2.6556e-01, 1.0000e+00, 1.0000e+00, 9.9999e-01, 1.0555e-01,\n",
      "         9.8702e-01, 1.8743e-02, 9.9992e-01, 1.0000e+00],\n",
      "        [9.9784e-01, 1.1719e-01, 9.8783e-01, 1.0000e+00, 1.0000e+00, 9.9462e-01,\n",
      "         8.3953e-01, 9.9995e-01, 9.9995e-01, 1.0000e+00],\n",
      "        [9.6536e-04, 8.7729e-01, 1.0000e+00, 1.0000e+00, 9.9870e-01, 9.9552e-01,\n",
      "         9.9942e-01, 9.9945e-01, 1.0000e+00, 9.9992e-01],\n",
      "        [4.2009e-02, 1.0000e+00, 1.0000e+00, 1.0000e+00, 9.9963e-01, 5.8280e-01,\n",
      "         9.9261e-01, 9.9840e-01, 1.0000e+00, 1.0000e+00],\n",
      "        [1.1263e-06, 1.0000e+00, 1.0000e+00, 1.0000e+00, 9.9319e-01, 1.8365e-01,\n",
      "         9.9992e-01, 9.9930e-01, 1.0000e+00, 1.0000e+00],\n",
      "        [1.1172e-04, 9.9990e-01, 9.9997e-01, 1.0000e+00, 9.9978e-01, 9.9893e-01,\n",
      "         9.7964e-01, 1.0978e-05, 9.9999e-01, 1.0000e+00],\n",
      "        [7.2677e-01, 9.9996e-01, 1.0000e+00, 1.0000e+00, 4.0654e-01, 9.3884e-01,\n",
      "         9.9933e-01, 4.3509e-02, 1.0000e+00, 1.0000e+00],\n",
      "        [3.4909e-02, 9.9900e-01, 9.9988e-01, 1.0000e+00, 1.0000e+00, 7.3845e-03,\n",
      "         1.8664e-03, 9.9973e-01, 9.9982e-01, 1.0000e+00],\n",
      "        [6.8884e-01, 7.2239e-01, 9.9969e-01, 9.9999e-01, 9.9684e-01, 9.9447e-01,\n",
      "         9.4691e-01, 1.0000e+00, 1.0000e+00, 1.0000e+00],\n",
      "        [1.6316e-03, 9.9983e-01, 9.9783e-01, 1.0000e+00, 7.4503e-01, 3.6592e-01,\n",
      "         5.4910e-02, 1.0000e+00, 9.9998e-01, 9.9996e-01],\n",
      "        [1.5952e-01, 9.9988e-01, 1.0000e+00, 1.0000e+00, 9.9635e-01, 5.2567e-05,\n",
      "         5.8434e-01, 8.5188e-01, 9.9999e-01, 1.0000e+00],\n",
      "        [6.8349e-01, 9.6456e-01, 1.0000e+00, 1.0000e+00, 9.9998e-01, 8.0285e-06,\n",
      "         4.1290e-01, 4.1217e-03, 1.0000e+00, 1.0000e+00],\n",
      "        [9.7538e-01, 5.1937e-01, 9.9999e-01, 9.9999e-01, 9.9998e-01, 9.2777e-01,\n",
      "         9.9964e-01, 9.9998e-01, 1.0000e+00, 9.9990e-01],\n",
      "        [1.2633e-05, 8.6453e-01, 1.0000e+00, 1.0000e+00, 4.9790e-01, 7.8316e-03,\n",
      "         9.9996e-01, 7.2842e-01, 1.0000e+00, 9.5149e-01],\n",
      "        [8.8374e-06, 9.9207e-01, 9.9999e-01, 1.0000e+00, 8.6811e-01, 4.5965e-01,\n",
      "         1.5427e-02, 6.6870e-03, 1.0000e+00, 9.9997e-01],\n",
      "        [6.9337e-05, 9.9841e-01, 1.0000e+00, 1.0000e+00, 5.6472e-01, 9.1509e-01,\n",
      "         5.1921e-01, 9.8935e-01, 1.0000e+00, 1.0000e+00],\n",
      "        [2.1224e-01, 1.0000e+00, 9.9998e-01, 9.9995e-01, 9.9998e-01, 1.0000e+00,\n",
      "         9.9821e-01, 9.9965e-01, 1.0000e+00, 9.9940e-01],\n",
      "        [3.9350e-04, 4.1027e-02, 1.0000e+00, 9.9999e-01, 9.8951e-01, 4.5946e-02,\n",
      "         1.6943e-01, 1.0000e+00, 1.0000e+00, 1.0000e+00],\n",
      "        [1.6183e-04, 9.9978e-01, 1.0000e+00, 1.0000e+00, 9.8860e-01, 9.9533e-01,\n",
      "         9.9998e-01, 4.7328e-02, 1.0000e+00, 9.6091e-01],\n",
      "        [3.9668e-06, 9.9998e-01, 1.0000e+00, 1.0000e+00, 9.9711e-01, 9.3688e-01,\n",
      "         2.3559e-01, 1.8762e-02, 1.0000e+00, 1.0000e+00],\n",
      "        [8.1048e-07, 1.0000e+00, 9.7652e-01, 1.0000e+00, 8.9001e-01, 9.9725e-01,\n",
      "         4.1587e-04, 9.5833e-01, 1.0000e+00, 9.9999e-01],\n",
      "        [6.3617e-01, 9.9891e-01, 1.0000e+00, 1.0000e+00, 3.5080e-01, 9.9721e-01,\n",
      "         9.7952e-01, 7.9519e-01, 1.0000e+00, 1.0000e+00],\n",
      "        [1.9903e-03, 9.5153e-01, 1.0000e+00, 1.0000e+00, 9.9985e-01, 5.7047e-03,\n",
      "         9.1172e-01, 6.5387e-05, 9.9733e-01, 1.0000e+00],\n",
      "        [1.3340e-05, 1.9079e-01, 1.0000e+00, 1.0000e+00, 9.9680e-01, 1.8016e-02,\n",
      "         9.8903e-01, 7.3634e-02, 1.0000e+00, 1.0000e+00],\n",
      "        [9.9997e-01, 9.9998e-01, 1.0000e+00, 9.9993e-01, 1.0000e+00, 9.5972e-03,\n",
      "         1.8983e-03, 4.4388e-01, 9.9988e-01, 1.0000e+00],\n",
      "        [5.2053e-04, 9.9979e-01, 9.9777e-01, 1.0000e+00, 1.0000e+00, 5.0302e-03,\n",
      "         7.0601e-01, 9.9932e-01, 9.9990e-01, 1.0000e+00],\n",
      "        [9.5820e-07, 9.9999e-01, 8.6281e-01, 1.0000e+00, 9.5417e-01, 9.9990e-01,\n",
      "         9.4582e-01, 8.8608e-01, 1.0000e+00, 1.0000e+00],\n",
      "        [6.7353e-04, 2.2490e-01, 1.0000e+00, 1.0000e+00, 1.0000e+00, 9.9786e-01,\n",
      "         3.8967e-02, 6.5586e-04, 1.0000e+00, 1.0000e+00],\n",
      "        [5.2343e-01, 9.9877e-01, 9.9999e-01, 1.0000e+00, 9.9328e-01, 7.9874e-01,\n",
      "         9.9974e-01, 1.0000e+00, 1.0000e+00, 9.9998e-01],\n",
      "        [1.5531e-02, 9.9969e-01, 9.9999e-01, 1.0000e+00, 9.9951e-01, 6.4153e-01,\n",
      "         3.6680e-03, 6.4625e-01, 1.0000e+00, 1.0000e+00],\n",
      "        [9.8691e-01, 9.9997e-01, 9.8974e-01, 1.0000e+00, 1.0000e+00, 9.8025e-03,\n",
      "         7.0391e-02, 9.7338e-01, 9.9995e-01, 1.0000e+00],\n",
      "        [4.0603e-04, 9.9992e-01, 1.0000e+00, 1.0000e+00, 8.4377e-01, 9.6381e-01,\n",
      "         9.9989e-01, 9.9977e-01, 1.0000e+00, 1.0000e+00],\n",
      "        [1.8858e-02, 9.7091e-01, 9.9999e-01, 1.0000e+00, 1.0000e+00, 1.0000e+00,\n",
      "         9.9968e-01, 9.9993e-01, 9.9998e-01, 1.0000e+00],\n",
      "        [3.7521e-01, 9.9998e-01, 9.9998e-01, 1.0000e+00, 9.9420e-01, 8.4390e-01,\n",
      "         8.1116e-01, 9.9991e-01, 1.0000e+00, 9.9792e-01],\n",
      "        [8.0331e-04, 1.0000e+00, 8.0042e-01, 1.0000e+00, 9.9997e-01, 9.9945e-01,\n",
      "         2.5899e-01, 9.9311e-01, 1.0000e+00, 9.9999e-01],\n",
      "        [8.4378e-05, 1.0000e+00, 9.9995e-01, 9.9999e-01, 9.4774e-01, 6.6885e-01,\n",
      "         8.7502e-01, 9.9825e-01, 1.0000e+00, 9.9991e-01],\n",
      "        [2.2087e-02, 9.9419e-01, 1.0000e+00, 9.9966e-01, 9.9956e-01, 2.0296e-03,\n",
      "         5.5794e-01, 9.6651e-01, 1.0000e+00, 1.0000e+00],\n",
      "        [8.8746e-04, 9.0064e-01, 1.0000e+00, 1.0000e+00, 8.9359e-01, 9.4150e-01,\n",
      "         5.9488e-02, 2.0570e-01, 1.0000e+00, 1.0000e+00],\n",
      "        [1.5361e-06, 9.9999e-01, 1.0000e+00, 1.0000e+00, 9.9881e-01, 4.4019e-02,\n",
      "         9.9949e-01, 6.3301e-01, 1.0000e+00, 9.9058e-01],\n",
      "        [1.2190e-03, 9.7860e-01, 1.0000e+00, 1.0000e+00, 1.0000e+00, 6.3216e-04,\n",
      "         7.3959e-01, 2.7135e-02, 1.0000e+00, 1.0000e+00],\n",
      "        [5.8323e-01, 9.9997e-01, 9.9998e-01, 1.0000e+00, 9.3632e-01, 9.8016e-01,\n",
      "         3.8769e-01, 9.9998e-01, 9.9996e-01, 9.9997e-01],\n",
      "        [1.2086e-02, 9.8348e-01, 9.9911e-01, 1.0000e+00, 1.0000e+00, 9.9996e-01,\n",
      "         2.7010e-05, 9.9993e-01, 9.9999e-01, 1.0000e+00],\n",
      "        [7.3545e-01, 1.0000e+00, 6.2390e-01, 1.0000e+00, 9.9922e-01, 9.8580e-01,\n",
      "         1.6436e-01, 1.0000e+00, 1.0000e+00, 1.0000e+00],\n",
      "        [6.2553e-06, 9.9999e-01, 1.0000e+00, 1.0000e+00, 9.9909e-01, 9.9799e-01,\n",
      "         2.6542e-01, 7.8020e-01, 1.0000e+00, 1.0000e+00],\n",
      "        [5.3069e-03, 1.0000e+00, 9.9997e-01, 1.0000e+00, 1.0000e+00, 9.9990e-01,\n",
      "         7.4805e-03, 9.8018e-01, 1.0000e+00, 1.0000e+00],\n",
      "        [9.7813e-01, 9.9587e-01, 9.8292e-01, 9.9998e-01, 1.0000e+00, 9.6144e-01,\n",
      "         3.3363e-02, 9.9997e-01, 9.9998e-01, 1.0000e+00],\n",
      "        [6.5501e-04, 9.9894e-01, 9.9986e-01, 9.9557e-01, 1.0000e+00, 9.9722e-01,\n",
      "         1.5060e-03, 9.9958e-01, 1.0000e+00, 1.0000e+00],\n",
      "        [9.8774e-01, 9.9999e-01, 1.0000e+00, 1.0000e+00, 1.0000e+00, 9.9971e-01,\n",
      "         9.9994e-01, 9.6895e-01, 9.9994e-01, 1.0000e+00],\n",
      "        [4.7128e-01, 9.9999e-01, 4.8007e-02, 1.0000e+00, 3.8582e-01, 9.9907e-01,\n",
      "         3.2102e-03, 9.9984e-01, 9.9999e-01, 1.0000e+00],\n",
      "        [8.3763e-04, 1.0000e+00, 9.9996e-01, 1.0000e+00, 1.0000e+00, 9.9971e-01,\n",
      "         4.9930e-01, 6.2393e-02, 1.0000e+00, 1.0000e+00],\n",
      "        [6.5267e-05, 1.0000e+00, 1.7437e-01, 1.0000e+00, 1.0000e+00, 9.9113e-01,\n",
      "         2.4147e-01, 9.9985e-01, 1.0000e+00, 1.0000e+00],\n",
      "        [1.4633e-03, 9.9997e-01, 9.9998e-01, 1.0000e+00, 9.9812e-01, 9.9982e-01,\n",
      "         6.3002e-01, 9.3486e-01, 1.0000e+00, 1.0000e+00],\n",
      "        [8.7638e-02, 9.9952e-01, 9.9874e-01, 1.0000e+00, 9.9995e-01, 1.4729e-01,\n",
      "         2.0502e-02, 9.9444e-01, 9.9997e-01, 1.0000e+00],\n",
      "        [3.2266e-01, 9.9979e-01, 9.9990e-01, 1.0000e+00, 9.9999e-01, 3.9980e-02,\n",
      "         2.9059e-01, 9.9674e-01, 1.0000e+00, 1.0000e+00],\n",
      "        [3.3662e-04, 9.9999e-01, 1.0000e+00, 9.9985e-01, 9.9954e-01, 9.7491e-01,\n",
      "         8.5037e-01, 9.9665e-01, 1.0000e+00, 9.9999e-01],\n",
      "        [9.6997e-01, 1.0000e+00, 9.7877e-01, 1.0000e+00, 9.9998e-01, 1.4048e-03,\n",
      "         4.7045e-01, 9.9947e-01, 1.0000e+00, 1.0000e+00],\n",
      "        [6.8586e-05, 9.6073e-01, 1.0000e+00, 1.0000e+00, 2.1076e-01, 9.9983e-01,\n",
      "         4.3515e-01, 7.9534e-01, 9.9999e-01, 9.6089e-01],\n",
      "        [2.4869e-01, 9.5723e-01, 9.9989e-01, 9.9996e-01, 9.9988e-01, 2.5557e-03,\n",
      "         7.9756e-01, 9.9915e-01, 9.9915e-01, 1.0000e+00],\n",
      "        [3.2413e-05, 1.0000e+00, 9.9998e-01, 1.0000e+00, 9.9842e-01, 8.3025e-01,\n",
      "         5.8287e-02, 6.9986e-01, 1.0000e+00, 1.0000e+00],\n",
      "        [2.5682e-02, 9.9984e-01, 9.9986e-01, 1.0000e+00, 9.9908e-01, 9.9435e-01,\n",
      "         6.0372e-01, 7.3053e-01, 1.0000e+00, 9.9997e-01]])\n"
     ]
    }
   ],
   "source": [
    "## Your solution\n",
    "def activation(x):\n",
    "    return 1/(1+torch.exp(-x))\n",
    "\n",
    "# Flatten the input images\n",
    "inputs = images.view(images.shape[0], -1)\n",
    "\n",
    "# Create parameters\n",
    "w1 = torch.randn(784, 256)\n",
    "b1 = torch.randn(256)\n",
    "\n",
    "w2 = torch.randn(256, 10)\n",
    "b2 = torch.randn(10)\n",
    "\n",
    "h = activation(torch.mm(inputs, w1) + b1)\n",
    "\n",
    "out = activation(torch.mm(h, w2) + b2)\n",
    "print(out.shape)\n",
    "print(out)"
   ]
  },
  {
   "cell_type": "markdown",
   "metadata": {},
   "source": [
    "Now we have 10 outputs for our network. We want to pass in an image to our network and get out a probability distribution over the classes that tells us the likely class(es) the image belongs to. Something that looks like this:\n",
    "<img src='assets/image_distribution.png' width=500px>\n",
    "\n",
    "Here we see that the probability for each class is roughly the same. This is representing an untrained network, it hasn't seen any data yet so it just returns a uniform distribution with equal probabilities for each class.\n",
    "\n",
    "To calculate this probability distribution, we often use the [**softmax** function](https://en.wikipedia.org/wiki/Softmax_function). Mathematically this looks like\n",
    "\n",
    "$$\n",
    "\\Large \\sigma(x_i) = \\cfrac{e^{x_i}}{\\sum_k^K{e^{x_k}}}\n",
    "$$\n",
    "\n",
    "What this does is squish each input $x_i$ between 0 and 1 and normalizes the values to give you a proper probability distribution where the probabilites sum up to one.\n",
    "\n",
    "> **Exercise:** Implement a function `softmax` that performs the softmax calculation and returns probability distributions for each example in the batch. Note that you'll need to pay attention to the shapes when doing this. If you have a tensor `a` with shape `(64, 10)` and a tensor `b` with shape `(64,)`, doing `a/b` will give you an error because PyTorch will try to do the division across the columns (called broadcasting) but you'll get a size mismatch. The way to think about this is for each of the 64 examples, you only want to divide by one value, the sum in the denominator. So you need `b` to have a shape of `(64, 1)`. This way PyTorch will divide the 10 values in each row of `a` by the one value in each row of `b`. Pay attention to how you take the sum as well. You'll need to define the `dim` keyword in `torch.sum`. Setting `dim=0` takes the sum across the rows while `dim=1` takes the sum across the columns."
   ]
  },
  {
   "cell_type": "code",
   "execution_count": 17,
   "metadata": {},
   "outputs": [
    {
     "name": "stdout",
     "output_type": "stream",
     "text": [
      "torch.Size([64, 10])\n",
      "tensor([1.0000, 1.0000, 1.0000, 1.0000, 1.0000, 1.0000, 1.0000, 1.0000, 1.0000,\n",
      "        1.0000, 1.0000, 1.0000, 1.0000, 1.0000, 1.0000, 1.0000, 1.0000, 1.0000,\n",
      "        1.0000, 1.0000, 1.0000, 1.0000, 1.0000, 1.0000, 1.0000, 1.0000, 1.0000,\n",
      "        1.0000, 1.0000, 1.0000, 1.0000, 1.0000, 1.0000, 1.0000, 1.0000, 1.0000,\n",
      "        1.0000, 1.0000, 1.0000, 1.0000, 1.0000, 1.0000, 1.0000, 1.0000, 1.0000,\n",
      "        1.0000, 1.0000, 1.0000, 1.0000, 1.0000, 1.0000, 1.0000, 1.0000, 1.0000,\n",
      "        1.0000, 1.0000, 1.0000, 1.0000, 1.0000, 1.0000, 1.0000, 1.0000, 1.0000,\n",
      "        1.0000])\n"
     ]
    }
   ],
   "source": [
    "def softmax(x):\n",
    "    ## TODO: Implement the softmax function here\n",
    "    return torch.exp(x)/torch.sum(torch.exp(x), dim=1).view(-1, 1)\n",
    "\n",
    "# Here, out should be the output of the network in the previous excercise with shape (64,10)\n",
    "probabilities = softmax(out)\n",
    "\n",
    "# Does it have the right shape? Should be (64, 10)\n",
    "print(probabilities.shape)\n",
    "# Does it sum to 1?\n",
    "print(probabilities.sum(dim=1))"
   ]
  },
  {
   "cell_type": "markdown",
   "metadata": {},
   "source": [
    "## Building networks with PyTorch\n",
    "\n",
    "PyTorch provides a module `nn` that makes building networks much simpler. Here I'll show you how to build the same one as above with 784 inputs, 256 hidden units, 10 output units and a softmax output."
   ]
  },
  {
   "cell_type": "code",
   "execution_count": 18,
   "metadata": {},
   "outputs": [],
   "source": [
    "from torch import nn"
   ]
  },
  {
   "cell_type": "code",
   "execution_count": 20,
   "metadata": {},
   "outputs": [],
   "source": [
    "class Network(nn.Module):\n",
    "    def __init__(self):\n",
    "        super().__init__()\n",
    "        \n",
    "        # Inputs to hidden layer linear transformation\n",
    "        self.hidden = nn.Linear(784, 256)\n",
    "        # Output layer, 10 units - one for each digit\n",
    "        self.output = nn.Linear(256, 10)\n",
    "        \n",
    "        # Define sigmoid activation and softmax output \n",
    "        self.sigmoid = nn.Sigmoid()\n",
    "        self.softmax = nn.Softmax(dim=1)\n",
    "        \n",
    "    def forward(self, x):\n",
    "        # Pass the input tensor through each of our operations\n",
    "        x = self.hidden(x)\n",
    "        x = self.sigmoid(x)\n",
    "        x = self.output(x)\n",
    "        x = self.softmax(x)\n",
    "        \n",
    "        return x"
   ]
  },
  {
   "cell_type": "markdown",
   "metadata": {},
   "source": [
    "Let's go through this bit by bit.\n",
    "\n",
    "```python\n",
    "class Network(nn.Module):\n",
    "```\n",
    "\n",
    "Here we're inheriting from `nn.Module`. Combined with `super().__init__()` this creates a class that tracks the architecture and provides a lot of useful methods and attributes. It is mandatory to inherit from `nn.Module` when you're creating a class for your network. The name of the class itself can be anything.\n",
    "\n",
    "```python\n",
    "self.hidden = nn.Linear(784, 256)\n",
    "```\n",
    "\n",
    "This line creates a module for a linear transformation, $x\\mathbf{W} + b$, with 784 inputs and 256 outputs and assigns it to `self.hidden`. The module automatically creates the weight and bias tensors which we'll use in the `forward` method. You can access the weight and bias tensors once the network (`net`) is created with `net.hidden.weight` and `net.hidden.bias`.\n",
    "\n",
    "```python\n",
    "self.output = nn.Linear(256, 10)\n",
    "```\n",
    "\n",
    "Similarly, this creates another linear transformation with 256 inputs and 10 outputs.\n",
    "\n",
    "```python\n",
    "self.sigmoid = nn.Sigmoid()\n",
    "self.softmax = nn.Softmax(dim=1)\n",
    "```\n",
    "\n",
    "Here I defined operations for the sigmoid activation and softmax output. Setting `dim=1` in `nn.Softmax(dim=1)` calculates softmax across the columns.\n",
    "\n",
    "```python\n",
    "def forward(self, x):\n",
    "```\n",
    "\n",
    "PyTorch networks created with `nn.Module` must have a `forward` method defined. It takes in a tensor `x` and passes it through the operations you defined in the `__init__` method.\n",
    "\n",
    "```python\n",
    "x = self.hidden(x)\n",
    "x = self.sigmoid(x)\n",
    "x = self.output(x)\n",
    "x = self.softmax(x)\n",
    "```\n",
    "\n",
    "Here the input tensor `x` is passed through each operation and reassigned to `x`. We can see that the input tensor goes through the hidden layer, then a sigmoid function, then the output layer, and finally the softmax function. It doesn't matter what you name the variables here, as long as the inputs and outputs of the operations match the network architecture you want to build. The order in which you define things in the `__init__` method doesn't matter, but you'll need to sequence the operations correctly in the `forward` method.\n",
    "\n",
    "Now we can create a `Network` object."
   ]
  },
  {
   "cell_type": "code",
   "execution_count": 23,
   "metadata": {},
   "outputs": [
    {
     "data": {
      "text/plain": [
       "Network(\n",
       "  (hidden): Linear(in_features=784, out_features=256, bias=True)\n",
       "  (output): Linear(in_features=256, out_features=10, bias=True)\n",
       "  (sigmoid): Sigmoid()\n",
       "  (softmax): Softmax(dim=1)\n",
       ")"
      ]
     },
     "execution_count": 23,
     "metadata": {},
     "output_type": "execute_result"
    }
   ],
   "source": [
    "# Create the network and look at it's text representation\n",
    "model = Network()\n",
    "model"
   ]
  },
  {
   "cell_type": "markdown",
   "metadata": {},
   "source": [
    "You can define the network somewhat more concisely and clearly using the `torch.nn.functional` module. This is the most common way you'll see networks defined as many operations are simple element-wise functions. We normally import this module as `F`, `import torch.nn.functional as F`."
   ]
  },
  {
   "cell_type": "code",
   "execution_count": 25,
   "metadata": {},
   "outputs": [],
   "source": [
    "import torch.nn.functional as F\n",
    "\n",
    "class Network(nn.Module):\n",
    "    def __init__(self):\n",
    "        super().__init__()\n",
    "        # Inputs to hidden layer linear transformation\n",
    "        self.hidden = nn.Linear(784, 256)\n",
    "        # Output layer, 10 units - one for each digit\n",
    "        self.output = nn.Linear(256, 10)\n",
    "        \n",
    "    def forward(self, x):\n",
    "        # Hidden layer with sigmoid activation\n",
    "        x = F.sigmoid(self.hidden(x))\n",
    "        # Output layer with softmax activation\n",
    "        x = F.softmax(self.output(x), dim=1)\n",
    "        \n",
    "        return x"
   ]
  },
  {
   "cell_type": "markdown",
   "metadata": {},
   "source": [
    "### Activation functions\n",
    "\n",
    "So far we've only been looking at the sigmoid activation function, but in general any function can be used as an activation function. The only requirement is that for a network to approximate a non-linear function, the activation functions must be non-linear. Here are a few more examples of common activation functions: Tanh (hyperbolic tangent), and ReLU (rectified linear unit).\n",
    "\n",
    "<img src=\"assets/activation.png\" width=700px>\n",
    "\n",
    "In practice, the ReLU function is used almost exclusively as the activation function for hidden layers."
   ]
  },
  {
   "cell_type": "markdown",
   "metadata": {},
   "source": [
    "### Your Turn to Build a Network\n",
    "\n",
    "<img src=\"assets/mlp_mnist.png\" width=600px>\n",
    "\n",
    "> **Exercise:** Create a network with 784 input units, a hidden layer with 128 units and a ReLU activation, then a hidden layer with 64 units and a ReLU activation, and finally an output layer with a softmax activation as shown above. You can use a ReLU activation with the `nn.ReLU` module or `F.relu` function.\n",
    "\n",
    "It's good practice to name your layers by their type of network, for instance 'fc' to represent a fully-connected layer. As you code your solution, use `fc1`, `fc2`, and `fc3` as your layer names."
   ]
  },
  {
   "cell_type": "code",
   "execution_count": 34,
   "metadata": {
    "scrolled": true
   },
   "outputs": [],
   "source": [
    "## Your solution here\n",
    "class NetworkMe(nn.Module):\n",
    "    def __init__(self):\n",
    "        super().__init__()\n",
    "        # Inputs to hidden layer linear transformation\n",
    "        self.fc1 = nn.Linear(784, 128)\n",
    "        \n",
    "        # Inputs to layer 2 from layer 1\n",
    "        self.fc2 = nn.Linear(128, 64)\n",
    "        \n",
    "        # Output layer, 10 units - one for each digit\n",
    "        self.output = nn.Linear(64, 10)\n",
    "        \n",
    "    def forward(self, x):\n",
    "        # Hidden layers with relu activation\n",
    "        x = F.relu(self.fc1(x))\n",
    "        x = F.relu(self.fc2(x))\n",
    "        \n",
    "        # Output layer with softmax activation\n",
    "        x = F.softmax(self.output(x), dim=1)\n",
    "        \n",
    "        return x"
   ]
  },
  {
   "cell_type": "markdown",
   "metadata": {},
   "source": [
    "### Initializing weights and biases\n",
    "\n",
    "The weights and such are automatically initialized for you, but it's possible to customize how they are initialized. The weights and biases are tensors attached to the layer you defined, you can get them with `model.fc1.weight` for instance."
   ]
  },
  {
   "cell_type": "code",
   "execution_count": 35,
   "metadata": {},
   "outputs": [
    {
     "name": "stdout",
     "output_type": "stream",
     "text": [
      "Parameter containing:\n",
      "tensor([[-0.0242,  0.0160,  0.0038,  ..., -0.0112, -0.0250, -0.0268],\n",
      "        [-0.0067,  0.0296,  0.0168,  ...,  0.0333,  0.0351, -0.0068],\n",
      "        [-0.0224,  0.0312,  0.0107,  ..., -0.0181, -0.0201, -0.0067],\n",
      "        ...,\n",
      "        [-0.0211,  0.0305, -0.0345,  ...,  0.0317,  0.0190,  0.0138],\n",
      "        [ 0.0250,  0.0264, -0.0190,  ...,  0.0237, -0.0198, -0.0162],\n",
      "        [-0.0140,  0.0291,  0.0321,  ..., -0.0195, -0.0062, -0.0022]],\n",
      "       requires_grad=True)\n",
      "Parameter containing:\n",
      "tensor([-0.0195, -0.0351,  0.0301, -0.0134, -0.0038,  0.0342, -0.0342, -0.0216,\n",
      "         0.0244,  0.0192, -0.0166,  0.0032,  0.0224, -0.0280, -0.0336, -0.0260,\n",
      "         0.0350, -0.0003,  0.0145, -0.0088, -0.0118,  0.0345, -0.0079,  0.0009,\n",
      "        -0.0003,  0.0287, -0.0342, -0.0317, -0.0121, -0.0305,  0.0304,  0.0014,\n",
      "        -0.0294,  0.0322,  0.0111, -0.0056,  0.0244, -0.0124, -0.0212,  0.0274,\n",
      "        -0.0077,  0.0262,  0.0149, -0.0069,  0.0172,  0.0292,  0.0283, -0.0248,\n",
      "         0.0088, -0.0315,  0.0315, -0.0195, -0.0033, -0.0082,  0.0231,  0.0134,\n",
      "        -0.0104,  0.0064, -0.0233, -0.0316, -0.0051,  0.0221, -0.0182,  0.0347,\n",
      "        -0.0198,  0.0154, -0.0059,  0.0286,  0.0058,  0.0200, -0.0169, -0.0295,\n",
      "         0.0194, -0.0133,  0.0230,  0.0260,  0.0101,  0.0009,  0.0038,  0.0012,\n",
      "         0.0040, -0.0089,  0.0199,  0.0193, -0.0118,  0.0344, -0.0110,  0.0279,\n",
      "        -0.0228, -0.0025,  0.0076, -0.0056, -0.0324, -0.0198,  0.0177, -0.0034,\n",
      "        -0.0349, -0.0267, -0.0108,  0.0087,  0.0244, -0.0242, -0.0167,  0.0136,\n",
      "        -0.0342, -0.0298,  0.0180, -0.0082,  0.0030,  0.0253, -0.0291, -0.0010,\n",
      "         0.0055, -0.0203,  0.0291, -0.0238,  0.0160,  0.0159,  0.0090,  0.0131,\n",
      "        -0.0068, -0.0138,  0.0357, -0.0310,  0.0085,  0.0224,  0.0316,  0.0208],\n",
      "       requires_grad=True)\n"
     ]
    }
   ],
   "source": [
    "model = NetworkMe()\n",
    "print(model.fc1.weight)\n",
    "print(model.fc1.bias)"
   ]
  },
  {
   "cell_type": "markdown",
   "metadata": {},
   "source": [
    "For custom initialization, we want to modify these tensors in place. These are actually autograd *Variables*, so we need to get back the actual tensors with `model.fc1.weight.data`. Once we have the tensors, we can fill them with zeros (for biases) or random normal values."
   ]
  },
  {
   "cell_type": "code",
   "execution_count": 36,
   "metadata": {},
   "outputs": [
    {
     "data": {
      "text/plain": [
       "tensor([0., 0., 0., 0., 0., 0., 0., 0., 0., 0., 0., 0., 0., 0., 0., 0., 0., 0., 0., 0., 0., 0., 0., 0.,\n",
       "        0., 0., 0., 0., 0., 0., 0., 0., 0., 0., 0., 0., 0., 0., 0., 0., 0., 0., 0., 0., 0., 0., 0., 0.,\n",
       "        0., 0., 0., 0., 0., 0., 0., 0., 0., 0., 0., 0., 0., 0., 0., 0., 0., 0., 0., 0., 0., 0., 0., 0.,\n",
       "        0., 0., 0., 0., 0., 0., 0., 0., 0., 0., 0., 0., 0., 0., 0., 0., 0., 0., 0., 0., 0., 0., 0., 0.,\n",
       "        0., 0., 0., 0., 0., 0., 0., 0., 0., 0., 0., 0., 0., 0., 0., 0., 0., 0., 0., 0., 0., 0., 0., 0.,\n",
       "        0., 0., 0., 0., 0., 0., 0., 0.])"
      ]
     },
     "execution_count": 36,
     "metadata": {},
     "output_type": "execute_result"
    }
   ],
   "source": [
    "# Set biases to all zeros\n",
    "model.fc1.bias.data.fill_(0)"
   ]
  },
  {
   "cell_type": "code",
   "execution_count": 37,
   "metadata": {},
   "outputs": [
    {
     "data": {
      "text/plain": [
       "tensor([[-0.0042,  0.0034, -0.0011,  ...,  0.0063, -0.0058,  0.0132],\n",
       "        [-0.0022, -0.0190, -0.0052,  ...,  0.0053,  0.0023,  0.0072],\n",
       "        [-0.0104,  0.0075, -0.0061,  ...,  0.0094, -0.0021, -0.0108],\n",
       "        ...,\n",
       "        [ 0.0190, -0.0040,  0.0064,  ..., -0.0135, -0.0008,  0.0056],\n",
       "        [-0.0030,  0.0228, -0.0161,  ..., -0.0002,  0.0003,  0.0055],\n",
       "        [-0.0230, -0.0013,  0.0007,  ...,  0.0233,  0.0094,  0.0158]])"
      ]
     },
     "execution_count": 37,
     "metadata": {},
     "output_type": "execute_result"
    }
   ],
   "source": [
    "# sample from random normal with standard dev = 0.01\n",
    "model.fc1.weight.data.normal_(std=0.01)"
   ]
  },
  {
   "cell_type": "markdown",
   "metadata": {},
   "source": [
    "### Forward pass\n",
    "\n",
    "Now that we have a network, let's see what happens when we pass in an image."
   ]
  },
  {
   "cell_type": "code",
   "execution_count": 38,
   "metadata": {},
   "outputs": [
    {
     "data": {
      "image/png": "[encoded data removed]",
      "text/plain": [
       "<Figure size 432x648 with 2 Axes>"
      ]
     },
     "metadata": {
      "image/png": {
       "height": 235,
       "width": 424
      },
      "needs_background": "light"
     },
     "output_type": "display_data"
    }
   ],
   "source": [
    "# Grab some data \n",
    "dataiter = iter(trainloader)\n",
    "images, labels = dataiter.next()\n",
    "\n",
    "# Resize images into a 1D vector, new shape is (batch size, color channels, image pixels) \n",
    "images.resize_(64, 1, 784)\n",
    "# or images.resize_(images.shape[0], 1, 784) to automatically get batch size\n",
    "\n",
    "# Forward pass through the network\n",
    "img_idx = 0\n",
    "ps = model.forward(images[img_idx,:])\n",
    "\n",
    "img = images[img_idx]\n",
    "helper.view_classify(img.view(1, 28, 28), ps)"
   ]
  },
  {
   "cell_type": "markdown",
   "metadata": {},
   "source": [
    "As you can see above, our network has basically no idea what this digit is. It's because we haven't trained it yet, all the weights are random!\n",
    "\n",
    "### Using `nn.Sequential`\n",
    "\n",
    "PyTorch provides a convenient way to build networks like this where a tensor is passed sequentially through operations, `nn.Sequential` ([documentation](https://pytorch.org/docs/master/nn.html#torch.nn.Sequential)). Using this to build the equivalent network:"
   ]
  },
  {
   "cell_type": "code",
   "execution_count": 39,
   "metadata": {},
   "outputs": [
    {
     "name": "stdout",
     "output_type": "stream",
     "text": [
      "Sequential(\n",
      "  (0): Linear(in_features=784, out_features=128, bias=True)\n",
      "  (1): ReLU()\n",
      "  (2): Linear(in_features=128, out_features=64, bias=True)\n",
      "  (3): ReLU()\n",
      "  (4): Linear(in_features=64, out_features=10, bias=True)\n",
      "  (5): Softmax(dim=1)\n",
      ")\n"
     ]
    },
    {
     "data": {
      "image/png": "[encoded data removed]",
      "text/plain": [
       "<Figure size 432x648 with 2 Axes>"
      ]
     },
     "metadata": {
      "image/png": {
       "height": 235,
       "width": 424
      },
      "needs_background": "light"
     },
     "output_type": "display_data"
    }
   ],
   "source": [
    "# Hyperparameters for our network\n",
    "input_size = 784\n",
    "hidden_sizes = [128, 64]\n",
    "output_size = 10\n",
    "\n",
    "# Build a feed-forward network\n",
    "model = nn.Sequential(nn.Linear(input_size, hidden_sizes[0]),\n",
    "                      nn.ReLU(),\n",
    "                      nn.Linear(hidden_sizes[0], hidden_sizes[1]),\n",
    "                      nn.ReLU(),\n",
    "                      nn.Linear(hidden_sizes[1], output_size),\n",
    "                      nn.Softmax(dim=1))\n",
    "print(model)\n",
    "\n",
    "# Forward pass through the network and display output\n",
    "images, labels = next(iter(trainloader))\n",
    "images.resize_(images.shape[0], 1, 784)\n",
    "ps = model.forward(images[0,:])\n",
    "helper.view_classify(images[0].view(1, 28, 28), ps)"
   ]
  },
  {
   "cell_type": "markdown",
   "metadata": {},
   "source": [
    "Here our model is the same as before: 784 input units, a hidden layer with 128 units, ReLU activation, 64 unit hidden layer, another ReLU, then the output layer with 10 units, and the softmax output.\n",
    "\n",
    "The operations are available by passing in the appropriate index. For example, if you want to get first Linear operation and look at the weights, you'd use `model[0]`."
   ]
  },
  {
   "cell_type": "code",
   "execution_count": 40,
   "metadata": {},
   "outputs": [
    {
     "name": "stdout",
     "output_type": "stream",
     "text": [
      "Linear(in_features=784, out_features=128, bias=True)\n"
     ]
    },
    {
     "data": {
      "text/plain": [
       "Parameter containing:\n",
       "tensor([[-0.0143,  0.0102,  0.0316,  ..., -0.0237, -0.0077,  0.0178],\n",
       "        [ 0.0180,  0.0094, -0.0159,  ...,  0.0072, -0.0284,  0.0101],\n",
       "        [-0.0201, -0.0010, -0.0080,  ...,  0.0049, -0.0255,  0.0180],\n",
       "        ...,\n",
       "        [ 0.0193, -0.0129,  0.0208,  ...,  0.0018,  0.0105,  0.0002],\n",
       "        [ 0.0188,  0.0183,  0.0081,  ..., -0.0275, -0.0192,  0.0028],\n",
       "        [-0.0134,  0.0078, -0.0315,  ..., -0.0017,  0.0309, -0.0278]],\n",
       "       requires_grad=True)"
      ]
     },
     "execution_count": 40,
     "metadata": {},
     "output_type": "execute_result"
    }
   ],
   "source": [
    "print(model[0])\n",
    "model[0].weight"
   ]
  },
  {
   "cell_type": "markdown",
   "metadata": {},
   "source": [
    "You can also pass in an `OrderedDict` to name the individual layers and operations, instead of using incremental integers. Note that dictionary keys must be unique, so _each operation must have a different name_."
   ]
  },
  {
   "cell_type": "code",
   "execution_count": 41,
   "metadata": {},
   "outputs": [
    {
     "data": {
      "text/plain": [
       "Sequential(\n",
       "  (fc1): Linear(in_features=784, out_features=128, bias=True)\n",
       "  (relu1): ReLU()\n",
       "  (fc2): Linear(in_features=128, out_features=64, bias=True)\n",
       "  (relu2): ReLU()\n",
       "  (output): Linear(in_features=64, out_features=10, bias=True)\n",
       "  (softmax): Softmax(dim=1)\n",
       ")"
      ]
     },
     "execution_count": 41,
     "metadata": {},
     "output_type": "execute_result"
    }
   ],
   "source": [
    "from collections import OrderedDict\n",
    "model = nn.Sequential(OrderedDict([\n",
    "                      ('fc1', nn.Linear(input_size, hidden_sizes[0])),\n",
    "                      ('relu1', nn.ReLU()),\n",
    "                      ('fc2', nn.Linear(hidden_sizes[0], hidden_sizes[1])),\n",
    "                      ('relu2', nn.ReLU()),\n",
    "                      ('output', nn.Linear(hidden_sizes[1], output_size)),\n",
    "                      ('softmax', nn.Softmax(dim=1))]))\n",
    "model"
   ]
  },
  {
   "cell_type": "markdown",
   "metadata": {},
   "source": [
    "Now you can access layers either by integer or the name"
   ]
  },
  {
   "cell_type": "code",
   "execution_count": 42,
   "metadata": {},
   "outputs": [
    {
     "name": "stdout",
     "output_type": "stream",
     "text": [
      "Linear(in_features=784, out_features=128, bias=True)\n",
      "Linear(in_features=784, out_features=128, bias=True)\n"
     ]
    }
   ],
   "source": [
    "print(model[0])\n",
    "print(model.fc1)"
   ]
  },
  {
   "cell_type": "markdown",
   "metadata": {},
   "source": [
    "In the next notebook, we'll see how we can train a neural network to accuractly predict the numbers appearing in the MNIST images."
   ]
  }
 ],
 "metadata": {
  "kernelspec": {
   "display_name": "Python 3 (ipykernel)",
   "language": "python",
   "name": "python3"
  },
  "language_info": {
   "codemirror_mode": {
    "name": "ipython",
    "version": 3
   },
   "file_extension": ".py",
   "mimetype": "text/x-python",
   "name": "python",
   "nbconvert_exporter": "python",
   "pygments_lexer": "ipython3",
   "version": "3.8.5"
  }
 },
 "nbformat": 4,
 "nbformat_minor": 2
}
